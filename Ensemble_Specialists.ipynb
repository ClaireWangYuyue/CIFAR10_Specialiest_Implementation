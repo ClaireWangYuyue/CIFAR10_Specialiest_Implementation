{
 "cells": [
  {
   "cell_type": "markdown",
   "metadata": {},
   "source": [
    "# APMTH 207: Advanced Scientific Computing: \n",
    "## Stochastic Methods for Data Analysis, Inference and Optimization\n",
    "## Group Project -- Final Deliverables\n",
    "**Harvard University**<br>\n",
    "**Fall 2018**<br>\n",
    "**Instructors: Rahul Dave**<br>\n",
    "\n",
    "**Paper Name: Distilling the Knowledge in a Neural Network**<br>\n",
    "**Paper URL: https://arxiv.org/abs/1503.02531**\n",
    "\n",
    "**Team name: ENSEMBLE**<br>\n",
    "**Team members:**<br>\n",
    "-- Timothy Lee (lee709@g.harvard.edu)\n",
    "\n",
    "-- Shiyun Qiu (shiyunqiu@g.harvard.edu)\n",
    "\n",
    "-- Xiangru Shu (xiangru_shu@g.harvard.edu)\n",
    "\n",
    "-- Yuyue Wang (yuyue_wang@g.harvard.edu)\n",
    "\n",
    "---"
   ]
  },
  {
   "cell_type": "markdown",
   "metadata": {},
   "source": [
    "## Background Information"
   ]
  },
  {
   "cell_type": "markdown",
   "metadata": {},
   "source": [
    "For large-scale machine learning tasks, such as speech and object recognition, a cumbersome model is commonly used to acheive high accuracy. The cumbersome model could be an ensemble of smaller models or a single large model trained with a strong regularizer. However, it is impractical to deploy the cumbersome model to a large number of users due to limited computational resources. One solution to this problem is to transfer the knowledge from the cumbersome model to a small model more suitable for deployment through \"distillation\".\n",
    "\n",
    "When we are distilling the knowledge of a cumbersome model into a small model, we should train the small model to generalize in the same way as the cumbersome model so that the small model can generalize well to new data. One way to transfer the generalization ability is to use the class probabilities produced by the cumbersome model as \"soft targets\" when training the small model. When the large model is an ensemble of simpler models, we can take an arithmetic or geometric mean of the predictive distributions as the soft targets. As these soft targets contain probabilities of all incorrect classes in addition to the probability of the correct class, we can obtain a lot of information about how the large model generalizes from the relative probabilites in each training case. Soft targets with high entropy have much less variance in the gradient between training cases, so we can train the small model with less data and a higher learning rate.\n",
    "\n",
    "---"
   ]
  },
  {
   "cell_type": "markdown",
   "metadata": {},
   "source": [
    "## Summary of Methods"
   ]
  },
  {
   "cell_type": "markdown",
   "metadata": {},
   "source": [
    "### Distillation\n",
    "\n",
    "#### Class Probability\n",
    "For neural networks, the class probabilities, $q_i$ are usually computed through the softmax output layer,\n",
    "$$ q_i = \\frac{\\exp\\{z_i/T\\}}{\\Sigma_j\\exp\\{z_j/T\\}},$$\n",
    "where $z_i$'s are the logits, i.e. the vector of raw (non-normalized) predictions that a classification model generates, and T is a temperature which is normally set to 1. Higher temperature leads to similar class probabilities (similar $q_i$ values), so it produces a softer probability distribution over classes. \n",
    "\n",
    "#### Simplest Form of Distillation \n",
    "The distilled model will be trained on a transfer set. Each training case in the transfer set is a soft target distribution produced by the cumbersome model with a high temperature in its softmax. We will use the same high temperature to train the distilled model. After the model is trained, we will use a temperature of 1 to predict.\n",
    "\n",
    "#### Correct Labels Partially Known for the Transfer Set\n",
    "Two objective functions are needed.\n",
    "\n",
    "Objective function 1: cross entropy with the soft targets.<br>\n",
    "We need to use the same high temperature used to train the cumbersome model in the softmax of the distilled model. \n",
    "\n",
    "Objective function 2: cross entropy with the correct labels.<br>\n",
    "We need to use the same logits in softmax of the distilled model but at a temperature of 1.\n",
    "\n",
    "$$ \\mathcal{L}(x; W) = \\alpha * \\mathcal{H}(\\sigma(z_c/\\tau), \\sigma(z_d/\\tau)) + \\beta * \\mathcal{H}(y, \\sigma(z_d)), $$\n",
    "where x is the input, W is the model parameters in the distilled model, $\\mathcal{H}$ is the cross entropy function, $\\sigma$ is the softmax function, $\\tau$ is the temperature used to train the cumbersome model, $z_c$ is the logit of the cumbersome model, $z_d$ is the logit of the distilled model, and $\\alpha$ and $\\beta$ are the weights ($\\beta=1-\\alpha$).\n",
    "\n",
    "A weighted average of these two objective functions will be computed with a considerably lower weight placed on the second one (i.e. significantly smaller $\\beta$). \n",
    "\n",
    "The magnitudes of the graidents of soft targets scale as $1/T^2$. To prevent the relative contributions of the hard and soft targets from changing when we adjust meta-parameters, we will multiply both of them by $T^2$.\n"
   ]
  },
  {
   "cell_type": "markdown",
   "metadata": {},
   "source": [
    "### Digit Matching as Special Case of Distillation\n",
    "\n",
    "Previous work by Caruana and his collaborators used logits produced by the softmax as the targets for training the small model by minimizing the squared difference between the logits produced by the cumbersome model and those produced by the small model. In this section, we will show that matching the logits is indeed a special case of distillation.\n",
    "\n",
    "The cross-entropy with the soft targets for each class $i$ can be computed as the following,\n",
    "$$ \n",
    "\\begin{align}\n",
    "\\mathcal{H}(\\sigma(z_{ci}/\\tau), \\sigma(z_{di}/\\tau)) \n",
    "&= - \\frac{\\exp\\{z_{ci}/\\tau\\}}{\\Sigma_j\\exp\\{z_{cj}/\\tau\\}} * \\log (\\frac{\\exp\\{z_{di}/\\tau\\}}{\\Sigma_j\\exp\\{z_{dj}/\\tau\\}})\\\\\n",
    "&= - \\frac{\\exp\\{z_{ci}/\\tau\\}}{\\Sigma_j\\exp\\{z_{cj}/\\tau\\}} * (z_{di}/\\tau - \n",
    "\\log (\\Sigma_j\\exp\\{z_{dj}/\\tau\\})).\\\\\n",
    "\\end{align}\n",
    "$$\n",
    "\n",
    "Taking gradient of the cross-entropy with respect to $z_{di}$ gives us,\n",
    "$$\n",
    "\\begin{align}\n",
    "\\frac{\\partial \\mathcal{H}(\\sigma(z_{ci}/\\tau), \\sigma(z_{di}/\\tau))}{\\partial z_{di}}\n",
    "&= \\frac{1}{\\tau}(\\frac{\\exp\\{z_{di}/\\tau\\}}{\\Sigma_j\\exp\\{z_{dj}/\\tau\\}} - \\frac{\\exp\\{z_{ci}/\\tau\\}}{\\Sigma_j\\exp\\{z_{cj}/\\tau\\}}).\n",
    "\\end{align}\n",
    "$$\n",
    "\n",
    "When the temperature $\\tau$ is high compared with the magnitude of the logits, we can approximate $\\exp\\{z_{i}/\\tau\\}$ through taylor expansion, i.e. $\\exp\\{z_{i}/\\tau\\} \\approx 1+z_{i}/\\tau$. So the gradient can be estimated as following,\n",
    "$$\n",
    "\\begin{align}\n",
    "\\frac{\\partial \\mathcal{H}(\\sigma(z_{ci}/\\tau), \\sigma(z_{di}/\\tau))}{\\partial z_{di}}\n",
    "&\\approx \\frac{1}{\\tau}(\\frac{1+z_{di}/\\tau}{N+\\Sigma_j z_{dj}/\\tau} - \\frac{1+z_{ci}/\\tau}{N+\\Sigma_j z_{cj}/\\tau}),\n",
    "\\end{align}\n",
    "$$\n",
    "where N is the number of total classes.\n",
    "\n",
    "When the logits are zero-meaned for each transfer case, i.e. $\\Sigma_j z_{dj} = \\Sigma_j z_{cj} = 0$, the gradient can be simplified to \n",
    "$$\n",
    "\\begin{align}\n",
    "\\frac{\\partial \\mathcal{H}(\\sigma(z_{ci}/\\tau), \\sigma(z_{di}/\\tau))}{\\partial z_{di}}\n",
    "&\\approx \\frac{1}{\\tau}(\\frac{1+z_{di}/\\tau}{N} - \\frac{1+z_{ci}/\\tau}{N})\\\\\n",
    "&\\approx \\frac{1}{N\\tau^2}(z_{di} - z_{ci}).\\\\\n",
    "\\end{align}\n",
    "$$\n",
    "\n",
    "So when the temperature is high, distillation is also minimizing $\\frac{1}{2}(z_{di} - z_{ci})$, the squared difference between the logits produced by the cumbersome model and those produced by the small model.\n",
    "\n",
    "---"
   ]
  },
  {
   "cell_type": "markdown",
   "metadata": {},
   "source": [
    "## Python Reimplementation"
   ]
  },
  {
   "cell_type": "markdown",
   "metadata": {},
   "source": [
    "### MNIST"
   ]
  },
  {
   "cell_type": "code",
   "execution_count": null,
   "metadata": {},
   "outputs": [],
   "source": []
  },
  {
   "cell_type": "markdown",
   "metadata": {},
   "source": [
    "### CIFAR-10"
   ]
  },
  {
   "cell_type": "markdown",
   "metadata": {},
   "source": [
    "#### Generalist Model"
   ]
  },
  {
   "cell_type": "code",
   "execution_count": 1,
   "metadata": {},
   "outputs": [],
   "source": [
    "import torch\n",
    "import torchvision\n",
    "import torchvision.transforms as transforms\n",
    "import torch.optim as optim\n",
    "import matplotlib.pyplot as plt\n",
    "import numpy as np\n",
    "import torch.nn as nn\n",
    "import torch.nn.functional as F\n",
    "import torch.autograd.variable as Variable\n",
    "from torch.utils.data.sampler import SubsetRandomSampler\n",
    "\n",
    "from sklearn.cluster import KMeans\n",
    "from tqdm import tqdm_notebook as tqdm\n",
    "import collections\n",
    "%matplotlib inline"
   ]
  },
  {
   "cell_type": "code",
   "execution_count": 2,
   "metadata": {},
   "outputs": [
    {
     "name": "stdout",
     "output_type": "stream",
     "text": [
      "Files already downloaded and verified\n",
      "Files already downloaded and verified\n"
     ]
    }
   ],
   "source": [
    "transform = transforms.Compose(\n",
    "    [transforms.ToTensor(),\n",
    "     transforms.Normalize((0.5, 0.5, 0.5), (0.5, 0.5, 0.5))])\n",
    "\n",
    "batch_size =4\n",
    "\n",
    "trainset = torchvision.datasets.CIFAR10(root='./data', train=True,\n",
    "                                        download=True, transform=transform)\n",
    "trainloader = torch.utils.data.DataLoader(trainset, batch_size=batch_size,\n",
    "                                          shuffle=True, num_workers=2)\n",
    "\n",
    "testset = torchvision.datasets.CIFAR10(root='./data', train=False,\n",
    "                                       download=True, transform=transform)\n",
    "testloader = torch.utils.data.DataLoader(testset, batch_size=batch_size,\n",
    "                                         shuffle=False, num_workers=2)\n",
    "\n",
    "classes = ('plane', 'car', 'bird', 'cat',\n",
    "           'deer', 'dog', 'frog', 'horse', 'ship', 'truck')\n",
    "\n",
    "device = torch.device(\"cuda:0\" if torch.cuda.is_available() else \"cpu\")"
   ]
  },
  {
   "cell_type": "code",
   "execution_count": 3,
   "metadata": {
    "scrolled": true
   },
   "outputs": [
    {
     "name": "stdout",
     "output_type": "stream",
     "text": [
      "horse   car   car plane\n"
     ]
    },
    {
     "data": {
      "image/png": "[encoded data removed]",
      "text/plain": [
       "<Figure size 432x288 with 1 Axes>"
      ]
     },
     "metadata": {
      "needs_background": "light"
     },
     "output_type": "display_data"
    }
   ],
   "source": [
    "\n",
    "# functions to show an image\n",
    "def imshow(img):\n",
    "    img = img / 2 + 0.5     # unnormalize\n",
    "    npimg = img.numpy()\n",
    "    plt.imshow(np.transpose(npimg, (1, 2, 0)))\n",
    "\n",
    "\n",
    "# get some random training images\n",
    "dataiter = iter(trainloader)\n",
    "images, labels = dataiter.next()\n",
    "\n",
    "# show images\n",
    "imshow(torchvision.utils.make_grid(images))\n",
    "# print labels\n",
    "print(' '.join('%5s' % classes[labels[j]] for j in range(4)))"
   ]
  },
  {
   "cell_type": "code",
   "execution_count": null,
   "metadata": {},
   "outputs": [],
   "source": []
  },
  {
   "cell_type": "code",
   "execution_count": 4,
   "metadata": {},
   "outputs": [],
   "source": [
    "\n",
    "class Net(nn.Module):\n",
    "    def __init__(self):\n",
    "        super(Net, self).__init__()\n",
    "        self.conv1 = nn.Conv2d(3, 6, 5)\n",
    "        self.pool = nn.MaxPool2d(2, 2)\n",
    "        self.conv2 = nn.Conv2d(6, 16, 5)\n",
    "        self.fc1 = nn.Linear(16 * 5 * 5, 120)\n",
    "        self.fc2 = nn.Linear(120, 84)\n",
    "        self.fc3 = nn.Linear(84, 10)\n",
    "\n",
    "    def forward(self, x):\n",
    "        x = self.pool(F.relu(self.conv1(x)))\n",
    "        x = self.pool(F.relu(self.conv2(x)))\n",
    "        x = x.view(-1, 16 * 5 * 5)\n",
    "        x = F.relu(self.fc1(x))\n",
    "        x = F.relu(self.fc2(x))\n",
    "        x = self.fc3(x)\n",
    "        return x\n",
    "\n",
    "    \n",
    "    \n",
    "generalist_net = Net()"
   ]
  },
  {
   "cell_type": "code",
   "execution_count": 5,
   "metadata": {},
   "outputs": [],
   "source": [
    "criterion = nn.CrossEntropyLoss()\n",
    "optimizer = optim.SGD(generalist_net.parameters(), lr=0.001, momentum=0.9)"
   ]
  },
  {
   "cell_type": "code",
   "execution_count": 6,
   "metadata": {
    "scrolled": false
   },
   "outputs": [
    {
     "data": {
      "application/vnd.jupyter.widget-view+json": {
       "model_id": "681243b5182c494ca85f895b78dd84dc",
       "version_major": 2,
       "version_minor": 0
      },
      "text/plain": [
       "HBox(children=(IntProgress(value=0, description='epoch 1', max=12500), HTML(value='')))"
      ]
     },
     "metadata": {},
     "output_type": "display_data"
    },
    {
     "name": "stdout",
     "output_type": "stream",
     "text": [
      "\n",
      "loss: 1.6834835933756829\n"
     ]
    },
    {
     "data": {
      "application/vnd.jupyter.widget-view+json": {
       "model_id": "e1e77b0bf5e7441b924bf39c36f422b1",
       "version_major": 2,
       "version_minor": 0
      },
      "text/plain": [
       "HBox(children=(IntProgress(value=0, description='epoch 2', max=12500), HTML(value='')))"
      ]
     },
     "metadata": {},
     "output_type": "display_data"
    },
    {
     "name": "stdout",
     "output_type": "stream",
     "text": [
      "\n",
      "loss: 1.3092705916357041\n"
     ]
    },
    {
     "data": {
      "application/vnd.jupyter.widget-view+json": {
       "model_id": "c50f43c1de7a40129841ff1f3bb2b2b8",
       "version_major": 2,
       "version_minor": 0
      },
      "text/plain": [
       "HBox(children=(IntProgress(value=0, description='epoch 3', max=12500), HTML(value='')))"
      ]
     },
     "metadata": {},
     "output_type": "display_data"
    },
    {
     "name": "stdout",
     "output_type": "stream",
     "text": [
      "\n",
      "loss: 1.1765088241553308\n"
     ]
    },
    {
     "data": {
      "application/vnd.jupyter.widget-view+json": {
       "model_id": "98379a1cfe11459bb978b686f3e0bdc5",
       "version_major": 2,
       "version_minor": 0
      },
      "text/plain": [
       "HBox(children=(IntProgress(value=0, description='epoch 4', max=12500), HTML(value='')))"
      ]
     },
     "metadata": {},
     "output_type": "display_data"
    },
    {
     "name": "stdout",
     "output_type": "stream",
     "text": [
      "\n",
      "loss: 1.0781942348337172\n"
     ]
    },
    {
     "data": {
      "application/vnd.jupyter.widget-view+json": {
       "model_id": "fbec025f183a4add98f55a6bf87786d1",
       "version_major": 2,
       "version_minor": 0
      },
      "text/plain": [
       "HBox(children=(IntProgress(value=0, description='epoch 5', max=12500), HTML(value='')))"
      ]
     },
     "metadata": {},
     "output_type": "display_data"
    },
    {
     "name": "stdout",
     "output_type": "stream",
     "text": [
      "\n",
      "loss: 1.009358075709343\n",
      "Finished Training\n"
     ]
    }
   ],
   "source": [
    "for epoch in range(5):  # loop over the dataset multiple times\n",
    "    \n",
    "    running_loss = 0.0\n",
    "    for data in tqdm(trainloader,desc='epoch '+str(epoch+1)):\n",
    "        # get the inputs\n",
    "        inputs, labels = data\n",
    "\n",
    "        # zero the parameter gradients\n",
    "        optimizer.zero_grad()\n",
    "\n",
    "        # forward + backward + optimize\n",
    "        outputs = generalist_net(inputs)\n",
    "        loss = criterion(outputs, labels)\n",
    "        loss.backward()\n",
    "        optimizer.step()\n",
    "\n",
    "        # print statistics\n",
    "        running_loss += loss.item()\n",
    "#         if i % 4000 == 3999:    # print every 2000 mini-batches\n",
    "#             print('[%d, %5d] loss: %.3f' %\n",
    "#                   (epoch + 1, i + 1, running_loss / 2000))\n",
    "#             running_loss = 0.0\n",
    "    print('loss:',running_loss/len(trainloader))\n",
    "print('Finished Training')"
   ]
  },
  {
   "cell_type": "code",
   "execution_count": null,
   "metadata": {},
   "outputs": [],
   "source": []
  },
  {
   "cell_type": "code",
   "execution_count": 8,
   "metadata": {},
   "outputs": [
    {
     "name": "stdout",
     "output_type": "stream",
     "text": [
      "GroundTruth:    cat  ship  ship plane\n"
     ]
    },
    {
     "data": {
      "image/png": "[encoded data removed]",
      "text/plain": [
       "<Figure size 432x288 with 1 Axes>"
      ]
     },
     "metadata": {
      "needs_background": "light"
     },
     "output_type": "display_data"
    }
   ],
   "source": [
    "dataiter = iter(testloader)\n",
    "images, labels = dataiter.next()\n",
    "\n",
    "# print images\n",
    "imshow(torchvision.utils.make_grid(images))\n",
    "print('GroundTruth: ', ' '.join('%5s' % classes[labels[j]] for j in range(4)))"
   ]
  },
  {
   "cell_type": "code",
   "execution_count": 9,
   "metadata": {},
   "outputs": [
    {
     "name": "stdout",
     "output_type": "stream",
     "text": [
      "Predicted:    cat  ship  ship  ship\n"
     ]
    }
   ],
   "source": [
    "outputs = generalist_net(images)\n",
    "\n",
    "_, predicted = torch.max(outputs, 1)\n",
    "\n",
    "print('Predicted: ', ' '.join('%5s' % classes[predicted[j]]\n",
    "                              for j in range(4)))"
   ]
  },
  {
   "cell_type": "code",
   "execution_count": 10,
   "metadata": {},
   "outputs": [
    {
     "name": "stdout",
     "output_type": "stream",
     "text": [
      "Accuracy of the network on the 10000 test images: 61 %\n"
     ]
    }
   ],
   "source": [
    "correct = 0\n",
    "total = 0\n",
    "with torch.no_grad():\n",
    "    for data in testloader:\n",
    "        images, labels = data\n",
    "        outputs = generalist_net(images)\n",
    "        _, predicted = torch.max(outputs.data, 1)\n",
    "        total += labels.size(0)\n",
    "        correct += (predicted == labels).sum().item()\n",
    "\n",
    "print('Accuracy of the network on the 10000 test images: %d %%' % (\n",
    "    100 * correct / total))"
   ]
  },
  {
   "cell_type": "code",
   "execution_count": 11,
   "metadata": {},
   "outputs": [
    {
     "name": "stdout",
     "output_type": "stream",
     "text": [
      "Accuracy of plane : 58 %\n",
      "Accuracy of   car : 76 %\n",
      "Accuracy of  bird : 58 %\n",
      "Accuracy of   cat : 28 %\n",
      "Accuracy of  deer : 65 %\n",
      "Accuracy of   dog : 51 %\n",
      "Accuracy of  frog : 72 %\n",
      "Accuracy of horse : 60 %\n",
      "Accuracy of  ship : 76 %\n",
      "Accuracy of truck : 62 %\n"
     ]
    }
   ],
   "source": [
    "class_correct = list(0. for i in range(10))\n",
    "class_total = list(0. for i in range(10))\n",
    "with torch.no_grad():\n",
    "    for data in testloader:\n",
    "        images, labels = data\n",
    "        outputs = generalist_net(images)\n",
    "        _, predicted = torch.max(outputs, 1)\n",
    "        c = (predicted == labels).squeeze()\n",
    "        for i in range(4):\n",
    "            label = labels[i]\n",
    "            class_correct[label] += c[i].item()\n",
    "            class_total[label] += 1\n",
    "\n",
    "\n",
    "for i in range(10):\n",
    "    print('Accuracy of %5s : %2d %%' % (\n",
    "        classes[i], 100 * class_correct[i] / class_total[i]))"
   ]
  },
  {
   "cell_type": "markdown",
   "metadata": {},
   "source": [
    "##### Assign classes to specialists using Kmeans"
   ]
  },
  {
   "cell_type": "code",
   "execution_count": 12,
   "metadata": {},
   "outputs": [
    {
     "name": "stdout",
     "output_type": "stream",
     "text": [
      "[0 2 3 3 1 1 3 1 0 2]\n"
     ]
    }
   ],
   "source": [
    "cluster_num = 4\n",
    "\n",
    "all_output = []\n",
    "with torch.no_grad():\n",
    "    for data in trainloader:\n",
    "        images, labels = data\n",
    "        outputs = generalist_net(images)\n",
    "        all_output.append(outputs)\n",
    "all_output = torch.cat(all_output)\n",
    "\n",
    "# print(all_output.shape)\n",
    "\n",
    "img = all_output.detach().numpy().transpose()\n",
    "# print(img.shape)\n",
    "cov_pred = np.cov(img)\n",
    "kmeans = KMeans(n_clusters=cluster_num).fit(cov_pred)\n",
    "print(kmeans.labels_)"
   ]
  },
  {
   "cell_type": "code",
   "execution_count": 13,
   "metadata": {},
   "outputs": [],
   "source": [
    "label_to_cluster = collections.defaultdict()\n",
    "cluster_to_label = collections.defaultdict(list)\n",
    "for original_label, cluster in enumerate(kmeans.labels_):\n",
    "    label_to_cluster[original_label] = cluster\n",
    "    cluster_to_label[cluster].append(original_label)"
   ]
  },
  {
   "cell_type": "code",
   "execution_count": 14,
   "metadata": {},
   "outputs": [
    {
     "data": {
      "text/plain": [
       "defaultdict(list, {0: [0, 8], 2: [1, 9], 3: [2, 3, 6], 1: [4, 5, 7]})"
      ]
     },
     "execution_count": 14,
     "metadata": {},
     "output_type": "execute_result"
    }
   ],
   "source": [
    "cluster_to_label"
   ]
  },
  {
   "cell_type": "code",
   "execution_count": 15,
   "metadata": {},
   "outputs": [],
   "source": [
    "specialists_trainsets = collections.defaultdict(list)\n",
    "specialists_dustbin_from = collections.defaultdict(list)\n",
    "                     \n",
    "for i,data in enumerate(trainset,0):\n",
    "    image, label = data\n",
    "    cluster = label_to_cluster[label]\n",
    "    specialists_trainsets[cluster].append((image, cluster_to_label[cluster].index(label)))\n",
    "    for c in range(cluster_num):\n",
    "        if c != cluster:\n",
    "            specialists_dustbin_from[c].append(i)"
   ]
  },
  {
   "cell_type": "code",
   "execution_count": 16,
   "metadata": {},
   "outputs": [],
   "source": [
    "class SpecialistNet(nn.Module):\n",
    "    def __init__(self,class_num):\n",
    "        super(SpecialistNet, self).__init__()\n",
    "        self.conv1 = nn.Conv2d(3, 6, 5)\n",
    "        self.pool = nn.MaxPool2d(2, 2)\n",
    "        self.conv2 = nn.Conv2d(6, 16, 5)\n",
    "        self.fc1 = nn.Linear(16 * 5 * 5, 120)\n",
    "        self.fc2 = nn.Linear(120, 84)\n",
    "        self.fc3 = nn.Linear(84, class_num)\n",
    "\n",
    "    def forward(self, x):\n",
    "        x = self.pool(F.relu(self.conv1(x)))\n",
    "        x = self.pool(F.relu(self.conv2(x)))\n",
    "        x = x.view(-1, 16 * 5 * 5)\n",
    "        x = F.relu(self.fc1(x))\n",
    "        x = F.relu(self.fc2(x))\n",
    "        x = self.fc3(x)\n",
    "        return x\n",
    "\n",
    "    "
   ]
  },
  {
   "cell_type": "markdown",
   "metadata": {},
   "source": [
    "##### Train Specialists"
   ]
  },
  {
   "cell_type": "code",
   "execution_count": 17,
   "metadata": {},
   "outputs": [],
   "source": [
    "specialist_models = collections.defaultdict()"
   ]
  },
  {
   "cell_type": "code",
   "execution_count": 28,
   "metadata": {},
   "outputs": [
    {
     "data": {
      "application/vnd.jupyter.widget-view+json": {
       "model_id": "d6c876ee521e417c8f00be5c4503bd99",
       "version_major": 2,
       "version_minor": 0
      },
      "text/plain": [
       "HBox(children=(IntProgress(value=0, description='epoch 1', max=5000), HTML(value='')))"
      ]
     },
     "metadata": {},
     "output_type": "display_data"
    },
    {
     "name": "stdout",
     "output_type": "stream",
     "text": [
      "\n",
      "loss: 0.41284633118808267\n"
     ]
    },
    {
     "data": {
      "application/vnd.jupyter.widget-view+json": {
       "model_id": "fdb164c311364a58b155b4f1249ef247",
       "version_major": 2,
       "version_minor": 0
      },
      "text/plain": [
       "HBox(children=(IntProgress(value=0, description='epoch 2', max=5000), HTML(value='')))"
      ]
     },
     "metadata": {},
     "output_type": "display_data"
    },
    {
     "name": "stdout",
     "output_type": "stream",
     "text": [
      "\n",
      "loss: 0.3402578852534294\n"
     ]
    },
    {
     "data": {
      "application/vnd.jupyter.widget-view+json": {
       "model_id": "bd950b869ec248b3b6786078ca3c9632",
       "version_major": 2,
       "version_minor": 0
      },
      "text/plain": [
       "HBox(children=(IntProgress(value=0, description='epoch 3', max=5000), HTML(value='')))"
      ]
     },
     "metadata": {},
     "output_type": "display_data"
    },
    {
     "name": "stdout",
     "output_type": "stream",
     "text": [
      "\n",
      "loss: 0.29563303517848255\n"
     ]
    },
    {
     "data": {
      "application/vnd.jupyter.widget-view+json": {
       "model_id": "2548c61152c944f0ad1b476f44b98912",
       "version_major": 2,
       "version_minor": 0
      },
      "text/plain": [
       "HBox(children=(IntProgress(value=0, description='epoch 4', max=5000), HTML(value='')))"
      ]
     },
     "metadata": {},
     "output_type": "display_data"
    },
    {
     "name": "stdout",
     "output_type": "stream",
     "text": [
      "\n",
      "loss: 0.2614433904349804\n"
     ]
    },
    {
     "data": {
      "application/vnd.jupyter.widget-view+json": {
       "model_id": "21266c68f99946b29f9d969b33f75cad",
       "version_major": 2,
       "version_minor": 0
      },
      "text/plain": [
       "HBox(children=(IntProgress(value=0, description='epoch 5', max=5000), HTML(value='')))"
      ]
     },
     "metadata": {},
     "output_type": "display_data"
    },
    {
     "name": "stdout",
     "output_type": "stream",
     "text": [
      "\n",
      "loss: 0.23119303985238077\n",
      "\n",
      "Finished Training Cluster # 1\n",
      "Accuracy of specialist # 0 on training set: 93.74%\n"
     ]
    },
    {
     "data": {
      "application/vnd.jupyter.widget-view+json": {
       "model_id": "52f6468fec7f4f22b0900edc025b287b",
       "version_major": 2,
       "version_minor": 0
      },
      "text/plain": [
       "HBox(children=(IntProgress(value=0, description='epoch 1', max=7500), HTML(value='')))"
      ]
     },
     "metadata": {},
     "output_type": "display_data"
    },
    {
     "name": "stdout",
     "output_type": "stream",
     "text": [
      "\n",
      "loss: 0.6492064089516799\n"
     ]
    },
    {
     "data": {
      "application/vnd.jupyter.widget-view+json": {
       "model_id": "7113d1dcab9a4ea7bb0af670e0766f34",
       "version_major": 2,
       "version_minor": 0
      },
      "text/plain": [
       "HBox(children=(IntProgress(value=0, description='epoch 2', max=7500), HTML(value='')))"
      ]
     },
     "metadata": {},
     "output_type": "display_data"
    },
    {
     "name": "stdout",
     "output_type": "stream",
     "text": [
      "\n",
      "loss: 0.5554715061227481\n"
     ]
    },
    {
     "data": {
      "application/vnd.jupyter.widget-view+json": {
       "model_id": "61f2c3ae62184d01897e3a23ca42b064",
       "version_major": 2,
       "version_minor": 0
      },
      "text/plain": [
       "HBox(children=(IntProgress(value=0, description='epoch 3', max=7500), HTML(value='')))"
      ]
     },
     "metadata": {},
     "output_type": "display_data"
    },
    {
     "name": "stdout",
     "output_type": "stream",
     "text": [
      "\n",
      "loss: 0.5081855981449286\n"
     ]
    },
    {
     "data": {
      "application/vnd.jupyter.widget-view+json": {
       "model_id": "9822a44567c344008145396f28fe50a8",
       "version_major": 2,
       "version_minor": 0
      },
      "text/plain": [
       "HBox(children=(IntProgress(value=0, description='epoch 4', max=7500), HTML(value='')))"
      ]
     },
     "metadata": {},
     "output_type": "display_data"
    },
    {
     "name": "stdout",
     "output_type": "stream",
     "text": [
      "\n",
      "loss: 0.46820697735349337\n"
     ]
    },
    {
     "data": {
      "application/vnd.jupyter.widget-view+json": {
       "model_id": "a28007ce8d7944acb53cdf09a1bf1230",
       "version_major": 2,
       "version_minor": 0
      },
      "text/plain": [
       "HBox(children=(IntProgress(value=0, description='epoch 5', max=7500), HTML(value='')))"
      ]
     },
     "metadata": {},
     "output_type": "display_data"
    },
    {
     "name": "stdout",
     "output_type": "stream",
     "text": [
      "\n",
      "loss: 0.4320870390415192\n",
      "\n",
      "Finished Training Cluster # 2\n",
      "Accuracy of specialist # 1 on training set: 86.25666666666666%\n"
     ]
    },
    {
     "data": {
      "application/vnd.jupyter.widget-view+json": {
       "model_id": "a20b7fef6ed34e66ba6f8992cebf3212",
       "version_major": 2,
       "version_minor": 0
      },
      "text/plain": [
       "HBox(children=(IntProgress(value=0, description='epoch 1', max=5000), HTML(value='')))"
      ]
     },
     "metadata": {},
     "output_type": "display_data"
    },
    {
     "name": "stdout",
     "output_type": "stream",
     "text": [
      "\n",
      "loss: 0.4087303222969174\n"
     ]
    },
    {
     "data": {
      "application/vnd.jupyter.widget-view+json": {
       "model_id": "3ff44a65b70442e593450a0aaeef2bdf",
       "version_major": 2,
       "version_minor": 0
      },
      "text/plain": [
       "HBox(children=(IntProgress(value=0, description='epoch 2', max=5000), HTML(value='')))"
      ]
     },
     "metadata": {},
     "output_type": "display_data"
    },
    {
     "name": "stdout",
     "output_type": "stream",
     "text": [
      "\n",
      "loss: 0.29334142520725726\n"
     ]
    },
    {
     "data": {
      "application/vnd.jupyter.widget-view+json": {
       "model_id": "3fb4cc341a6e44f5991958fbb48764b2",
       "version_major": 2,
       "version_minor": 0
      },
      "text/plain": [
       "HBox(children=(IntProgress(value=0, description='epoch 3', max=5000), HTML(value='')))"
      ]
     },
     "metadata": {},
     "output_type": "display_data"
    },
    {
     "name": "stdout",
     "output_type": "stream",
     "text": [
      "\n",
      "loss: 0.24495806315988303\n"
     ]
    },
    {
     "data": {
      "application/vnd.jupyter.widget-view+json": {
       "model_id": "5cb720684cd84319ae19fddb2ba4cc31",
       "version_major": 2,
       "version_minor": 0
      },
      "text/plain": [
       "HBox(children=(IntProgress(value=0, description='epoch 4', max=5000), HTML(value='')))"
      ]
     },
     "metadata": {},
     "output_type": "display_data"
    },
    {
     "name": "stdout",
     "output_type": "stream",
     "text": [
      "\n",
      "loss: 0.2133464243322611\n"
     ]
    },
    {
     "data": {
      "application/vnd.jupyter.widget-view+json": {
       "model_id": "15ffaed53689448a92b158ed1e539289",
       "version_major": 2,
       "version_minor": 0
      },
      "text/plain": [
       "HBox(children=(IntProgress(value=0, description='epoch 5', max=5000), HTML(value='')))"
      ]
     },
     "metadata": {},
     "output_type": "display_data"
    },
    {
     "name": "stdout",
     "output_type": "stream",
     "text": [
      "\n",
      "loss: 0.17566262593567372\n",
      "\n",
      "Finished Training Cluster # 3\n",
      "Accuracy of specialist # 2 on training set: 93.715%\n"
     ]
    },
    {
     "data": {
      "application/vnd.jupyter.widget-view+json": {
       "model_id": "828ef8dec19945ffba3f40b25d32d795",
       "version_major": 2,
       "version_minor": 0
      },
      "text/plain": [
       "HBox(children=(IntProgress(value=0, description='epoch 1', max=7500), HTML(value='')))"
      ]
     },
     "metadata": {},
     "output_type": "display_data"
    },
    {
     "name": "stdout",
     "output_type": "stream",
     "text": [
      "\n",
      "loss: 0.7212518134435018\n"
     ]
    },
    {
     "data": {
      "application/vnd.jupyter.widget-view+json": {
       "model_id": "b2a05c7a4b4047b1a18c363b0873afac",
       "version_major": 2,
       "version_minor": 0
      },
      "text/plain": [
       "HBox(children=(IntProgress(value=0, description='epoch 2', max=7500), HTML(value='')))"
      ]
     },
     "metadata": {},
     "output_type": "display_data"
    },
    {
     "name": "stdout",
     "output_type": "stream",
     "text": [
      "\n",
      "loss: 0.6237828230937322\n"
     ]
    },
    {
     "data": {
      "application/vnd.jupyter.widget-view+json": {
       "model_id": "971bc799c9604fcd867315ab8c8343ca",
       "version_major": 2,
       "version_minor": 0
      },
      "text/plain": [
       "HBox(children=(IntProgress(value=0, description='epoch 3', max=7500), HTML(value='')))"
      ]
     },
     "metadata": {},
     "output_type": "display_data"
    },
    {
     "name": "stdout",
     "output_type": "stream",
     "text": [
      "\n",
      "loss: 0.566045273222526\n"
     ]
    },
    {
     "data": {
      "application/vnd.jupyter.widget-view+json": {
       "model_id": "0d7cf22c4c724241838a8ee258e450f9",
       "version_major": 2,
       "version_minor": 0
      },
      "text/plain": [
       "HBox(children=(IntProgress(value=0, description='epoch 4', max=7500), HTML(value='')))"
      ]
     },
     "metadata": {},
     "output_type": "display_data"
    },
    {
     "name": "stdout",
     "output_type": "stream",
     "text": [
      "\n",
      "loss: 0.5244595694124699\n"
     ]
    },
    {
     "data": {
      "application/vnd.jupyter.widget-view+json": {
       "model_id": "585d6223ed7b4982a0c3afd085dac940",
       "version_major": 2,
       "version_minor": 0
      },
      "text/plain": [
       "HBox(children=(IntProgress(value=0, description='epoch 5', max=7500), HTML(value='')))"
      ]
     },
     "metadata": {},
     "output_type": "display_data"
    },
    {
     "name": "stdout",
     "output_type": "stream",
     "text": [
      "\n",
      "loss: 0.48533712658087413\n",
      "\n",
      "Finished Training Cluster # 4\n",
      "Accuracy of specialist # 3 on training set: 84.46666666666667%\n"
     ]
    }
   ],
   "source": [
    "for cluster in range(cluster_num):\n",
    "    specialist_dustbin_indices = np.random.choice(len(specialists_dustbin_from[cluster]),\n",
    "                                                  len(specialists_trainsets[cluster]),\n",
    "                                                  replace=False)\n",
    "    dustbin_indices = [specialists_dustbin_from[cluster][i] for i in specialist_dustbin_indices]\n",
    "    sampler = SubsetRandomSampler(dustbin_indices)\n",
    "    specialist_dustbin = torch.utils.data.DataLoader(trainset, sampler = sampler,num_workers=2)\n",
    "    \n",
    "    # relabel specialist trainset and dustbin\n",
    "    specialist_dustbin = [(data[0][0],len(cluster_to_label[cluster])) for data in specialist_dustbin]\n",
    "    \n",
    "    specialist_trainset_full = specialists_trainsets[cluster] + specialist_dustbin\n",
    "#     print(len(specialist_trainset_full))\n",
    "    \n",
    "    specialist_trainloader = torch.utils.data.DataLoader(specialist_trainset_full, batch_size=4,\n",
    "                                          shuffle=True, num_workers=2)\n",
    "    \n",
    "    \n",
    "    specialist_net = SpecialistNet(class_num=len(cluster_to_label[cluster])+1)\n",
    "    \n",
    "    specialist_net.conv1.weight.data = generalist_net.conv1.weight\n",
    "    specialist_net.conv2.weight.data = generalist_net.conv2.weight\n",
    "    specialist_net.fc1.weight.data = generalist_net.fc1.weight\n",
    "    specialist_net.fc2.weight.data = generalist_net.fc2.weight\n",
    "    \n",
    "    criterion = nn.CrossEntropyLoss()\n",
    "    optimizer = optim.SGD(specialist_net.parameters(), lr=0.001, momentum=0.9)\n",
    "    \n",
    "    \n",
    "    for epoch in range(5):  # loop over the dataset multiple times\n",
    "\n",
    "        running_loss = 0.0\n",
    "        for data in tqdm(specialist_trainloader,desc='epoch '+str(epoch+1)):\n",
    "            # get the inputs\n",
    "            inputs, labels = data\n",
    "\n",
    "    #         print(inputs, labels)\n",
    "\n",
    "            # zero the parameter gradients\n",
    "            optimizer.zero_grad()\n",
    "\n",
    "            # forward + backward + optimize\n",
    "            outputs = specialist_net(inputs)\n",
    "            loss = criterion(outputs, labels)\n",
    "            loss.backward()\n",
    "            optimizer.step()\n",
    "\n",
    "            # print statistics\n",
    "            running_loss += loss.item()\n",
    "#             if i % 2000 == 1999:    # print every 2000 mini-batches\n",
    "#                 print('[%d, %5d] loss: %.3f' %\n",
    "#                       (epoch + 1, i + 1, running_loss / 2000))\n",
    "#                 running_loss = 0.0\n",
    "        print('loss:',running_loss/len(specialist_trainloader))\n",
    "    print('\\nFinished Training Cluster #',str(cluster))\n",
    "    \n",
    "    correct = 0\n",
    "    total = 0\n",
    "    with torch.no_grad():\n",
    "        for data in specialist_trainloader:\n",
    "            images, labels = data\n",
    "            outputs = specialist_net(images)\n",
    "            _, predicted = torch.max(outputs.data, 1)\n",
    "            total += labels.size(0)\n",
    "            correct += (predicted == labels).sum().item()\n",
    "\n",
    "    print('Accuracy of specialist # '+str(cluster)+' on training set: '\n",
    "          +str(100 * correct / total)+'%')\n",
    "    \n",
    "    specialist_models[cluster] = specialist_net"
   ]
  },
  {
   "cell_type": "markdown",
   "metadata": {},
   "source": [
    "## Inference / Test\n",
    "\n"
   ]
  },
  {
   "cell_type": "markdown",
   "metadata": {},
   "source": [
    "### Step 1 & 2\n",
    "\n",
    "For each test case, we find the n most probable classes according to the generalist model.\n",
    "Call this set of classes k. In our experiments, we used n = 1."
   ]
  },
  {
   "cell_type": "code",
   "execution_count": 41,
   "metadata": {},
   "outputs": [],
   "source": [
    "def specialist_result_expansion(specialist,specialist_result,class_num):\n",
    "    expanded = torch.zeros(class_num)\n",
    "    specialist_member_num = len(specialist)-1\n",
    "    for i in range(class_num):\n",
    "        if i in specialist:\n",
    "            expanded[i] = specialist_result[specialist.index(i)]\n",
    "        else:\n",
    "            expanded[i] = specialist_result[-1] / (class_num-specialist_member_num)\n",
    "    return expanded\n",
    "            "
   ]
  },
  {
   "cell_type": "code",
   "execution_count": 84,
   "metadata": {},
   "outputs": [],
   "source": [
    "# compute p_g, p_m, and perform GD to find q\n",
    "\n",
    "total = 0\n",
    "correct = 0\n",
    "\n",
    "total_gen = 0\n",
    "correct_gen = 0\n",
    "class_num = 10\n",
    "\n",
    "n = 3 # consider top n probable classes from generalist model\n",
    "\n",
    "\n",
    "with torch.no_grad():\n",
    "    for data in testloader:\n",
    "        images, labels = data\n",
    "        outputs = generalist_net(images)\n",
    "        \n",
    "        # z distribution, label for a batch\n",
    "        _, predicted = torch.max(outputs.data, 1)\n",
    "        topn_z,topn_predicted = torch.topk(outputs,n)\n",
    "        \n",
    "        \n",
    "        \n",
    "        # probability distribution for a batch\n",
    "        p_g = F.softmax(outputs, dim = 0)\n",
    "        for i in range(batch_size):\n",
    "            topn_sum = []\n",
    "            for j in range(n):\n",
    "                generalist_label = topn_predicted[i][j]\n",
    "#                 generalist_label = predicted[i]\n",
    "                cluster = label_to_cluster[int(generalist_label)]\n",
    "                specialist_net = specialist_models[int(cluster)]\n",
    "                specialist_outputs = specialist_net(images)\n",
    "                pg_i = outputs[i] # z\n",
    "                pm_i = specialist_outputs[i] #z\n",
    "                \n",
    "#                 pg_i = p_g[i] #softmax\n",
    "#                 pm_i = F.softmax(specialist_outputs[i],dim=0) #softmax\n",
    "                \n",
    "                expanded_pm_i = specialist_result_expansion(cluster_to_label[cluster],pm_i,class_num=10)\n",
    "                topn_sum.append(expanded_pm_i.numpy())\n",
    "#             q_hat=np.mean([pg_i.numpy(),expanded_pm_i.numpy()],axis=0)\n",
    "            q_hat = np.mean([pg_i.numpy()]+topn_sum,axis=0)\n",
    "            q_hat = F.softmax(torch.Tensor(q_hat),dim=0)\n",
    "#             q_hat = expanded_pm_i\n",
    "            label = np.argmax(q_hat)\n",
    "\n",
    "            total += 1\n",
    "            if label == labels[i]:\n",
    "                correct += 1\n",
    "\n",
    "\n",
    "        total_gen += labels.size(0)\n",
    "        correct_gen += (predicted == labels).sum().item()\n",
    "        "
   ]
  },
  {
   "cell_type": "code",
   "execution_count": 85,
   "metadata": {},
   "outputs": [
    {
     "name": "stdout",
     "output_type": "stream",
     "text": [
      "test accuracy of generalist:  58.14 %\n",
      "test accuracy of ensemble:  58.96 %\n"
     ]
    }
   ],
   "source": [
    "print(\"test accuracy of generalist: \", 100*correct_gen/total_gen,'%')\n",
    "print(\"test accuracy of ensemble: \", 100*correct/total,'%')"
   ]
  },
  {
   "cell_type": "code",
   "execution_count": null,
   "metadata": {},
   "outputs": [],
   "source": []
  },
  {
   "cell_type": "code",
   "execution_count": null,
   "metadata": {},
   "outputs": [],
   "source": []
  },
  {
   "cell_type": "code",
   "execution_count": null,
   "metadata": {},
   "outputs": [],
   "source": []
  },
  {
   "cell_type": "code",
   "execution_count": null,
   "metadata": {},
   "outputs": [],
   "source": []
  },
  {
   "cell_type": "code",
   "execution_count": null,
   "metadata": {},
   "outputs": [],
   "source": []
  },
  {
   "cell_type": "code",
   "execution_count": null,
   "metadata": {},
   "outputs": [],
   "source": []
  },
  {
   "cell_type": "code",
   "execution_count": null,
   "metadata": {},
   "outputs": [],
   "source": []
  },
  {
   "cell_type": "code",
   "execution_count": null,
   "metadata": {},
   "outputs": [],
   "source": []
  },
  {
   "cell_type": "code",
   "execution_count": 37,
   "metadata": {},
   "outputs": [],
   "source": [
    "def resize_q(P_g,q,P_m):\n",
    "    # q should have size same as P_g(10)\n",
    "    # need to sum all dustbin class probabilities into one\n",
    "    \n",
    "    if len(P_m) == len(animals)+1:\n",
    "        q_resize = torch.zeros(len(animals)+1,dtype=torch.float)\n",
    "        for i,index in enumerate(animals):\n",
    "            q_resize[i] = q[index]\n",
    "        for j,index in enumerate(transportation):\n",
    "            q_resize[-1] += q[index]\n",
    "    elif len(P_m) == len(transportation)+1:\n",
    "        q_resize = torch.zeros(len(transportation)+1,dtype=torch.float)\n",
    "        for i,index in enumerate(transportation):\n",
    "            q_resize[i] = q[index]\n",
    "        for j,index in enumerate(animals):\n",
    "            q_resize[-1] += q[index]\n",
    "    return q_resize"
   ]
  },
  {
   "cell_type": "code",
   "execution_count": 38,
   "metadata": {},
   "outputs": [],
   "source": [
    "def KL_loss(P_g,q,P_m,q_resize):\n",
    "    return F.kl_div(P_g,q) + F.kl_div(P_m,q_resize)"
   ]
  },
  {
   "cell_type": "code",
   "execution_count": 39,
   "metadata": {},
   "outputs": [],
   "source": [
    "def KL_gradient(P_g,P_m,q,q_resize,special_list,num_class = 10):\n",
    "    # make sure P_q, P_m, and q are all Tensors\n",
    "    gradient_Pg = - P_g / q\n",
    "    q_dustbin = 0\n",
    "    # calculate q_dustbin\n",
    "    for i in range(num_class):\n",
    "        if i not in special_list:\n",
    "            q_dustbin += q[i]\n",
    "    gradient_Pm = torch.zeros(num_class)\n",
    "    for i in range(num_class):\n",
    "        if i in special_list:\n",
    "            gradient_Pm[i] = -P_m[special_list.index(i)]/q[i]\n",
    "        else:\n",
    "            gradient_Pm[i] = -P_m[-1]/q_dustbin\n",
    "    return gradient_Pg + gradient_Pm"
   ]
  },
  {
   "cell_type": "code",
   "execution_count": 40,
   "metadata": {},
   "outputs": [],
   "source": [
    "def minimization(P_g,P_m,num_epoch):\n",
    "    \n",
    "    if len(P_m) == len(animals)+1:\n",
    "        special_list = animals\n",
    "    elif len(P_m) == len(transportation)+1:\n",
    "        special_list = transportation\n",
    "    \n",
    "    gamma = 0.01 # step size\n",
    "    \n",
    "    \n",
    "    \n",
    "    q = Variable(np.random.rand(10),dtype = torch.float, requires_grad=True) # random initialize q\n",
    "#     print('random q:',q)\n",
    "    q_resize = resize_q(P_g,q,P_m)\n",
    "    \n",
    "    for epoch in range(num_epoch):\n",
    "        loss = KL_loss(P_g,q,P_m,q_resize)\n",
    "#         print('LOSS:',loss)\n",
    "        q -= gamma * KL_gradient(P_g,P_m,q,q_resize,special_list)\n",
    "        \n",
    "#         print('updated? q:',q)\n",
    "    return q"
   ]
  },
  {
   "cell_type": "markdown",
   "metadata": {},
   "source": [
    "## Analysis and Comparison"
   ]
  },
  {
   "cell_type": "code",
   "execution_count": null,
   "metadata": {},
   "outputs": [],
   "source": []
  }
 ],
 "metadata": {
  "kernelspec": {
   "display_name": "Python 3",
   "language": "python",
   "name": "python3"
  },
  "language_info": {
   "codemirror_mode": {
    "name": "ipython",
    "version": 3
   },
   "file_extension": ".py",
   "mimetype": "text/x-python",
   "name": "python",
   "nbconvert_exporter": "python",
   "pygments_lexer": "ipython3",
   "version": "3.7.0"
  }
 },
 "nbformat": 4,
 "nbformat_minor": 2
}
