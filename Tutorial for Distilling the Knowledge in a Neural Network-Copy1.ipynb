{
 "cells": [
  {
   "cell_type": "markdown",
   "metadata": {},
   "source": [
    "# APMTH 207: Advanced Scientific Computing: \n",
    "## Stochastic Methods for Data Analysis, Inference and Optimization\n",
    "## Group Project -- Final Deliverables\n",
    "**Harvard University**<br>\n",
    "**Fall 2018**<br>\n",
    "**Instructors: Rahul Dave**<br>\n",
    "\n",
    "**Paper Name: Distilling the Knowledge in a Neural Network**<br>\n",
    "**Paper URL: https://arxiv.org/abs/1503.02531**\n",
    "\n",
    "**Team name: ENSEMBLE**<br>\n",
    "**Team members:**<br>\n",
    "-- Timothy Lee (lee709@g.harvard.edu)\n",
    "\n",
    "-- Shiyun Qiu (shiyunqiu@g.harvard.edu)\n",
    "\n",
    "-- Xiangru Shu (xiangru_shu@g.harvard.edu)\n",
    "\n",
    "-- Yuyue Wang (yuyue_wang@g.harvard.edu)\n",
    "\n",
    "---"
   ]
  },
  {
   "cell_type": "markdown",
   "metadata": {},
   "source": [
    "## Background Information"
   ]
  },
  {
   "cell_type": "markdown",
   "metadata": {},
   "source": [
    "For large-scale machine learning tasks, such as speech and object recognition, a cumbersome model is commonly used to acheive high accuracy. The cumbersome model could be an ensemble of smaller models or a single large model trained with a strong regularizer. However, it is impractical to deploy the cumbersome model to a large number of users due to limited computational resources. One solution to this problem is to transfer the knowledge from the cumbersome model to a small model more suitable for deployment through \"distillation\".\n",
    "\n",
    "When we are distilling the knowledge of a cumbersome model into a small model, we should train the small model to generalize in the same way as the cumbersome model so that the small model can generalize well to new data. One way to transfer the generalization ability is to use the class probabilities produced by the cumbersome model as \"soft targets\" when training the small model. When the large model is an ensemble of simpler models, we can take an arithmetic or geometric mean of the predictive distributions as the soft targets. As these soft targets contain probabilities of all incorrect classes in addition to the probability of the correct class, we can obtain a lot of information about how the large model generalizes from the relative probabilites in each training case. Soft targets with high entropy have much less variance in the gradient between training cases, so we can train the small model with less data and a higher learning rate.\n",
    "\n",
    "---"
   ]
  },
  {
   "cell_type": "markdown",
   "metadata": {},
   "source": [
    "## Summary of Methods"
   ]
  },
  {
   "cell_type": "markdown",
   "metadata": {},
   "source": [
    "### Distillation\n",
    "\n",
    "#### Class Probability\n",
    "For neural networks, the class probabilities, $q_i$ are usually computed through the softmax output layer,\n",
    "$$ q_i = \\frac{\\exp\\{z_i/T\\}}{\\Sigma_j\\exp\\{z_j/T\\}},$$\n",
    "where $z_i$'s are the logits, i.e. the vector of raw (non-normalized) predictions that a classification model generates, and T is a temperature which is normally set to 1. Higher temperature leads to similar class probabilities (similar $q_i$ values), so it produces a softer probability distribution over classes. \n",
    "\n",
    "#### Simplest Form of Distillation \n",
    "The distilled model will be trained on a transfer set. Each training case in the transfer set is a soft target distribution produced by the cumbersome model with a high temperature in its softmax. We will use the same high temperature to train the distilled model. After the model is trained, we will use a temperature of 1 to predict.\n",
    "\n",
    "#### Correct Labels Partially Known for the Transfer Set\n",
    "Two objective functions are needed.\n",
    "\n",
    "Objective function 1: cross entropy with the soft targets.<br>\n",
    "We need to use the same high temperature used to train the cumbersome model in the softmax of the distilled model. \n",
    "\n",
    "Objective function 2: cross entropy with the correct labels.<br>\n",
    "We need to use the same logits in softmax of the distilled model but at a temperature of 1.\n",
    "\n",
    "$$ \\mathcal{L}(x; W) = \\alpha * \\mathcal{H}(\\sigma(z_c/\\tau), \\sigma(z_d/\\tau)) + \\beta * \\mathcal{H}(y, \\sigma(z_d)), $$\n",
    "where x is the input, W is the model parameters in the distilled model, $\\mathcal{H}$ is the cross entropy function, $\\sigma$ is the softmax function, $\\tau$ is the temperature used to train the cumbersome model, $z_c$ is the logit of the cumbersome model, $z_d$ is the logit of the distilled model, and $\\alpha$ and $\\beta$ are the weights ($\\beta=1-\\alpha$).\n",
    "\n",
    "A weighted average of these two objective functions will be computed with a considerably lower weight placed on the second one (i.e. significantly smaller $\\beta$). \n",
    "\n",
    "The magnitudes of the graidents of soft targets scale as $1/T^2$. To prevent the relative contributions of the hard and soft targets from changing when we adjust meta-parameters, we will multiply both of them by $T^2$.\n"
   ]
  },
  {
   "cell_type": "markdown",
   "metadata": {},
   "source": [
    "### Digit Matching as Special Case of Distillation\n",
    "\n",
    "Previous work by Caruana and his collaborators used logits produced by the softmax as the targets for training the small model by minimizing the squared difference between the logits produced by the cumbersome model and those produced by the small model. In this section, we will show that matching the logits is indeed a special case of distillation.\n",
    "\n",
    "The cross-entropy with the soft targets for each class $i$ can be computed as the following,\n",
    "$$ \n",
    "\\begin{align}\n",
    "\\mathcal{H}(\\sigma(z_{ci}/\\tau), \\sigma(z_{di}/\\tau)) \n",
    "&= - \\frac{\\exp\\{z_{ci}/\\tau\\}}{\\Sigma_j\\exp\\{z_{cj}/\\tau\\}} * \\log (\\frac{\\exp\\{z_{di}/\\tau\\}}{\\Sigma_j\\exp\\{z_{dj}/\\tau\\}})\\\\\n",
    "&= - \\frac{\\exp\\{z_{ci}/\\tau\\}}{\\Sigma_j\\exp\\{z_{cj}/\\tau\\}} * (z_{di}/\\tau - \n",
    "\\log (\\Sigma_j\\exp\\{z_{dj}/\\tau\\})).\\\\\n",
    "\\end{align}\n",
    "$$\n",
    "\n",
    "Taking gradient of the cross-entropy with respect to $z_{di}$ gives us,\n",
    "$$\n",
    "\\begin{align}\n",
    "\\frac{\\partial \\mathcal{H}(\\sigma(z_{ci}/\\tau), \\sigma(z_{di}/\\tau))}{\\partial z_{di}}\n",
    "&= \\frac{1}{\\tau}(\\frac{\\exp\\{z_{di}/\\tau\\}}{\\Sigma_j\\exp\\{z_{dj}/\\tau\\}} - \\frac{\\exp\\{z_{ci}/\\tau\\}}{\\Sigma_j\\exp\\{z_{cj}/\\tau\\}}).\n",
    "\\end{align}\n",
    "$$\n",
    "\n",
    "When the temperature $\\tau$ is high compared with the magnitude of the logits, we can approximate $\\exp\\{z_{i}/\\tau\\}$ through taylor expansion, i.e. $\\exp\\{z_{i}/\\tau\\} \\approx 1+z_{i}/\\tau$. So the gradient can be estimated as following,\n",
    "$$\n",
    "\\begin{align}\n",
    "\\frac{\\partial \\mathcal{H}(\\sigma(z_{ci}/\\tau), \\sigma(z_{di}/\\tau))}{\\partial z_{di}}\n",
    "&\\approx \\frac{1}{\\tau}(\\frac{1+z_{di}/\\tau}{N+\\Sigma_j z_{dj}/\\tau} - \\frac{1+z_{ci}/\\tau}{N+\\Sigma_j z_{cj}/\\tau}),\n",
    "\\end{align}\n",
    "$$\n",
    "where N is the number of total classes.\n",
    "\n",
    "When the logits are zero-meaned for each transfer case, i.e. $\\Sigma_j z_{dj} = \\Sigma_j z_{cj} = 0$, the gradient can be simplified to \n",
    "$$\n",
    "\\begin{align}\n",
    "\\frac{\\partial \\mathcal{H}(\\sigma(z_{ci}/\\tau), \\sigma(z_{di}/\\tau))}{\\partial z_{di}}\n",
    "&\\approx \\frac{1}{\\tau}(\\frac{1+z_{di}/\\tau}{N} - \\frac{1+z_{ci}/\\tau}{N})\\\\\n",
    "&\\approx \\frac{1}{N\\tau^2}(z_{di} - z_{ci}).\\\\\n",
    "\\end{align}\n",
    "$$\n",
    "\n",
    "So when the temperature is high, distillation is also minimizing $\\frac{1}{2}(z_{di} - z_{ci})$, the squared difference between the logits produced by the cumbersome model and those produced by the small model.\n",
    "\n",
    "---"
   ]
  },
  {
   "cell_type": "markdown",
   "metadata": {},
   "source": [
    "## Python Reimplementation"
   ]
  },
  {
   "cell_type": "markdown",
   "metadata": {},
   "source": [
    "### MNIST"
   ]
  },
  {
   "cell_type": "code",
   "execution_count": null,
   "metadata": {},
   "outputs": [],
   "source": []
  },
  {
   "cell_type": "markdown",
   "metadata": {},
   "source": [
    "### CIFAR-10"
   ]
  },
  {
   "cell_type": "code",
   "execution_count": 1,
   "metadata": {},
   "outputs": [],
   "source": [
    "import torch\n",
    "import torchvision\n",
    "import torchvision.transforms as transforms"
   ]
  },
  {
   "cell_type": "code",
   "execution_count": 2,
   "metadata": {},
   "outputs": [
    {
     "name": "stdout",
     "output_type": "stream",
     "text": [
      "Downloading https://www.cs.toronto.edu/~kriz/cifar-10-python.tar.gz to ./data/cifar-10-python.tar.gz\n",
      "Files already downloaded and verified\n"
     ]
    }
   ],
   "source": [
    "transform = transforms.Compose(\n",
    "    [transforms.ToTensor(),\n",
    "     transforms.Normalize((0.5, 0.5, 0.5), (0.5, 0.5, 0.5))])\n",
    "\n",
    "trainset = torchvision.datasets.CIFAR10(root='./data', train=True,\n",
    "                                        download=True, transform=transform)\n",
    "trainloader = torch.utils.data.DataLoader(trainset, batch_size=4,\n",
    "                                          shuffle=True, num_workers=2)\n",
    "\n",
    "testset = torchvision.datasets.CIFAR10(root='./data', train=False,\n",
    "                                       download=True, transform=transform)\n",
    "testloader = torch.utils.data.DataLoader(testset, batch_size=4,\n",
    "                                         shuffle=False, num_workers=2)\n",
    "\n",
    "classes = ('plane', 'car', 'bird', 'cat',\n",
    "           'deer', 'dog', 'frog', 'horse', 'ship', 'truck')\n",
    "\n",
    "device = torch.device(\"cuda:0\" if torch.cuda.is_available() else \"cpu\")"
   ]
  },
  {
   "cell_type": "code",
   "execution_count": 3,
   "metadata": {
    "scrolled": true
   },
   "outputs": [
    {
     "name": "stdout",
     "output_type": "stream",
     "text": [
      " frog  frog truck  deer\n"
     ]
    },
    {
     "data": {
      "image/png": "[encoded data removed]",
      "text/plain": [
       "<Figure size 432x288 with 1 Axes>"
      ]
     },
     "metadata": {
      "needs_background": "light"
     },
     "output_type": "display_data"
    }
   ],
   "source": [
    "import matplotlib.pyplot as plt\n",
    "import numpy as np\n",
    "%matplotlib inline\n",
    "\n",
    "\n",
    "# functions to show an image\n",
    "\n",
    "\n",
    "def imshow(img):\n",
    "    img = img / 2 + 0.5     # unnormalize\n",
    "    npimg = img.numpy()\n",
    "    plt.imshow(np.transpose(npimg, (1, 2, 0)))\n",
    "\n",
    "\n",
    "# get some random training images\n",
    "dataiter = iter(trainloader)\n",
    "images, labels = dataiter.next()\n",
    "\n",
    "# show images\n",
    "imshow(torchvision.utils.make_grid(images))\n",
    "# print labels\n",
    "print(' '.join('%5s' % classes[labels[j]] for j in range(4)))"
   ]
  },
  {
   "cell_type": "code",
   "execution_count": 4,
   "metadata": {},
   "outputs": [],
   "source": [
    "import torch.nn as nn\n",
    "import torch.nn.functional as F\n",
    "\n",
    "\n",
    "class Net(nn.Module):\n",
    "    def __init__(self):\n",
    "        super(Net, self).__init__()\n",
    "        self.conv1 = nn.Conv2d(3, 6, 5)\n",
    "        self.pool = nn.MaxPool2d(2, 2)\n",
    "        self.conv2 = nn.Conv2d(6, 16, 5)\n",
    "        self.fc1 = nn.Linear(16 * 5 * 5, 120)\n",
    "        self.fc2 = nn.Linear(120, 84)\n",
    "        self.fc3 = nn.Linear(84, 10)\n",
    "\n",
    "    def forward(self, x):\n",
    "        x = self.pool(F.relu(self.conv1(x)))\n",
    "        x = self.pool(F.relu(self.conv2(x)))\n",
    "        x = x.view(-1, 16 * 5 * 5)\n",
    "        x = F.relu(self.fc1(x))\n",
    "        x = F.relu(self.fc2(x))\n",
    "        x = self.fc3(x)\n",
    "#         x = F.softmax(x, dim)\n",
    "        return x\n",
    "\n",
    "    \n",
    "    \n",
    "generalist_net = Net()"
   ]
  },
  {
   "cell_type": "code",
   "execution_count": 5,
   "metadata": {},
   "outputs": [],
   "source": [
    "import torch.optim as optim\n",
    "\n",
    "criterion = nn.CrossEntropyLoss()\n",
    "optimizer = optim.SGD(generalist_net.parameters(), lr=0.001, momentum=0.9)"
   ]
  },
  {
   "cell_type": "code",
   "execution_count": 6,
   "metadata": {},
   "outputs": [
    {
     "name": "stdout",
     "output_type": "stream",
     "text": [
      "[1,  2000] loss: 2.216\n",
      "[1,  4000] loss: 1.883\n",
      "[1,  6000] loss: 1.693\n",
      "[1,  8000] loss: 1.599\n",
      "[1, 10000] loss: 1.518\n",
      "[1, 12000] loss: 1.466\n",
      "[2,  2000] loss: 1.387\n",
      "[2,  4000] loss: 1.367\n",
      "[2,  6000] loss: 1.319\n",
      "[2,  8000] loss: 1.318\n",
      "[2, 10000] loss: 1.296\n",
      "[2, 12000] loss: 1.279\n",
      "[3,  2000] loss: 1.204\n",
      "[3,  4000] loss: 1.178\n",
      "[3,  6000] loss: 1.212\n",
      "[3,  8000] loss: 1.170\n",
      "[3, 10000] loss: 1.192\n",
      "[3, 12000] loss: 1.158\n",
      "[4,  2000] loss: 1.092\n",
      "[4,  4000] loss: 1.106\n",
      "[4,  6000] loss: 1.116\n",
      "[4,  8000] loss: 1.113\n",
      "[4, 10000] loss: 1.089\n",
      "[4, 12000] loss: 1.087\n",
      "[5,  2000] loss: 1.029\n",
      "[5,  4000] loss: 1.015\n",
      "[5,  6000] loss: 1.026\n",
      "[5,  8000] loss: 1.042\n",
      "[5, 10000] loss: 1.051\n",
      "[5, 12000] loss: 1.027\n",
      "Finished Training\n"
     ]
    }
   ],
   "source": [
    "for epoch in range(5):  # loop over the dataset multiple times\n",
    "\n",
    "    running_loss = 0.0\n",
    "    for i, data in enumerate(trainloader, 0):\n",
    "        # get the inputs\n",
    "        inputs, labels = data\n",
    "\n",
    "        # zero the parameter gradients\n",
    "        optimizer.zero_grad()\n",
    "\n",
    "        # forward + backward + optimize\n",
    "        outputs = generalist_net(inputs)\n",
    "        loss = criterion(outputs, labels)\n",
    "        loss.backward()\n",
    "        optimizer.step()\n",
    "\n",
    "        # print statistics\n",
    "        running_loss += loss.item()\n",
    "        if i % 2000 == 1999:    # print every 2000 mini-batches\n",
    "            print('[%d, %5d] loss: %.3f' %\n",
    "                  (epoch + 1, i + 1, running_loss / 2000))\n",
    "            running_loss = 0.0\n",
    "\n",
    "print('Finished Training')"
   ]
  },
  {
   "cell_type": "code",
   "execution_count": 8,
   "metadata": {},
   "outputs": [
    {
     "name": "stdout",
     "output_type": "stream",
     "text": [
      "GroundTruth:    cat  ship  ship plane\n"
     ]
    },
    {
     "data": {
      "image/png": "[encoded data removed]",
      "text/plain": [
       "<Figure size 432x288 with 1 Axes>"
      ]
     },
     "metadata": {
      "needs_background": "light"
     },
     "output_type": "display_data"
    }
   ],
   "source": [
    "dataiter = iter(testloader)\n",
    "images, labels = dataiter.next()\n",
    "\n",
    "# print images\n",
    "imshow(torchvision.utils.make_grid(images))\n",
    "print('GroundTruth: ', ' '.join('%5s' % classes[labels[j]] for j in range(4)))"
   ]
  },
  {
   "cell_type": "code",
   "execution_count": 9,
   "metadata": {},
   "outputs": [
    {
     "name": "stdout",
     "output_type": "stream",
     "text": [
      "Predicted:    cat  ship   car plane\n"
     ]
    }
   ],
   "source": [
    "outputs = generalist_net(images)\n",
    "\n",
    "_, predicted = torch.max(outputs, 1)\n",
    "\n",
    "print('Predicted: ', ' '.join('%5s' % classes[predicted[j]]\n",
    "                              for j in range(4)))"
   ]
  },
  {
   "cell_type": "code",
   "execution_count": 10,
   "metadata": {},
   "outputs": [
    {
     "name": "stdout",
     "output_type": "stream",
     "text": [
      "Accuracy of the network on the 10000 test images: 61 %\n"
     ]
    }
   ],
   "source": [
    "correct = 0\n",
    "total = 0\n",
    "with torch.no_grad():\n",
    "    for data in testloader:\n",
    "        images, labels = data\n",
    "        outputs = generalist_net(images)\n",
    "        _, predicted = torch.max(outputs.data, 1)\n",
    "        total += labels.size(0)\n",
    "        correct += (predicted == labels).sum().item()\n",
    "\n",
    "print('Accuracy of the network on the 10000 test images: %d %%' % (\n",
    "    100 * correct / total))"
   ]
  },
  {
   "cell_type": "code",
   "execution_count": null,
   "metadata": {},
   "outputs": [],
   "source": [
    "class_correct = list(0. for i in range(10))\n",
    "class_total = list(0. for i in range(10))\n",
    "with torch.no_grad():\n",
    "    for data in testloader:\n",
    "        images, labels = data\n",
    "        outputs = (images)\n",
    "        _, predicted = torch.max(outputs, 1)\n",
    "        c = (predicted == labels).squeeze()\n",
    "        for i in range(4):\n",
    "            label = labels[i]\n",
    "            class_correct[label] += c[i].item()\n",
    "            class_total[label] += 1\n",
    "\n",
    "\n",
    "for i in range(10):\n",
    "    print('Accuracy of %5s : %2d %%' % (\n",
    "        classes[i], 100 * class_correct[i] / class_total[i]))"
   ]
  },
  {
   "cell_type": "code",
   "execution_count": null,
   "metadata": {},
   "outputs": [],
   "source": []
  },
  {
   "cell_type": "code",
   "execution_count": null,
   "metadata": {},
   "outputs": [],
   "source": []
  },
  {
   "cell_type": "code",
   "execution_count": null,
   "metadata": {},
   "outputs": [],
   "source": []
  },
  {
   "cell_type": "code",
   "execution_count": null,
   "metadata": {},
   "outputs": [],
   "source": []
  },
  {
   "cell_type": "code",
   "execution_count": null,
   "metadata": {},
   "outputs": [],
   "source": []
  },
  {
   "cell_type": "code",
   "execution_count": null,
   "metadata": {},
   "outputs": [],
   "source": []
  },
  {
   "cell_type": "code",
   "execution_count": 11,
   "metadata": {},
   "outputs": [
    {
     "name": "stdout",
     "output_type": "stream",
     "text": [
      "tensor([[3505.,  152.,  140.,  120.,  164.,   35.,   38.,   49.,  689.,  108.],\n",
      "        [ 112., 4224.,   15.,   41.,   19.,   12.,   37.,   10.,  338.,  192.],\n",
      "        [ 399.,   95., 2225.,  465.,  829.,  295.,  347.,  135.,  153.,   57.],\n",
      "        [ 105.,   68.,  216., 2768.,  389.,  775.,  312.,  125.,  137.,  105.],\n",
      "        [ 172.,   69.,  176.,  327., 3378.,  178.,  271.,  318.,   81.,   30.],\n",
      "        [  55.,   51.,  204., 1304.,  363., 2516.,  184.,  221.,   51.,   51.],\n",
      "        [  46.,  108.,  125.,  511.,  388.,  160., 3493.,   39.,   68.,   62.],\n",
      "        [  93.,   61.,  116.,  467.,  508.,  285.,   55., 3279.,   33.,  103.],\n",
      "        [ 339.,  153.,   30.,  108.,   42.,   24.,   22.,    6., 4195.,   81.],\n",
      "        [ 197.,  919.,   24.,  144.,   39.,   34.,   57.,   76.,  371., 3139.]])\n"
     ]
    }
   ],
   "source": [
    "nb_classes = 10\n",
    "\n",
    "confusion_matrix_train = torch.zeros(nb_classes, nb_classes)\n",
    "with torch.no_grad():\n",
    "    for i, (inputs, classes) in enumerate(trainloader):\n",
    "        inputs = inputs.to(device)\n",
    "        classes = classes.to(device)\n",
    "        outputs = net(inputs)\n",
    "        _, preds = torch.max(outputs, 1)\n",
    "        for t, p in zip(classes.view(-1), preds.view(-1)):\n",
    "                confusion_matrix_train[t.long(), p.long()] += 1\n",
    "\n",
    "print(confusion_matrix_train)\n"
   ]
  },
  {
   "cell_type": "code",
   "execution_count": 12,
   "metadata": {},
   "outputs": [
    {
     "name": "stdout",
     "output_type": "stream",
     "text": [
      "tensor([[683.,  35.,  25.,  21.,  31.,   5.,  17.,   8., 150.,  25.],\n",
      "        [ 23., 795.,   3.,  11.,   8.,   6.,  16.,   2.,  80.,  56.],\n",
      "        [ 95.,  16., 399., 102., 174.,  63.,  77.,  35.,  31.,   8.],\n",
      "        [ 26.,  20.,  42., 498.,  98., 156.,  70.,  31.,  31.,  28.],\n",
      "        [ 31.,  20.,  42.,  90., 606.,  49.,  67.,  69.,  20.,   6.],\n",
      "        [ 20.,   9.,  50., 267.,  78., 470.,  25.,  60.,  10.,  11.],\n",
      "        [  2.,  22.,  27., 106.,  69.,  46., 690.,  12.,  12.,  14.],\n",
      "        [ 28.,  11.,  30.,  87., 112.,  68.,   8., 618.,   8.,  30.],\n",
      "        [ 88.,  45.,   5.,  23.,   7.,  11.,   4.,   5., 792.,  20.],\n",
      "        [ 34., 182.,   7.,  44.,  17.,   8.,  13.,  15.,  93., 587.]])\n"
     ]
    }
   ],
   "source": [
    "confusion_matrix_test = torch.zeros(nb_classes, nb_classes)\n",
    "with torch.no_grad():\n",
    "    for i, (inputs, classes) in enumerate(testloader):\n",
    "        inputs = inputs.to(device)\n",
    "        classes = classes.to(device)\n",
    "        outputs = net(inputs)\n",
    "        _, preds = torch.max(outputs, 1)\n",
    "        for t, p in zip(classes.view(-1), preds.view(-1)):\n",
    "                confusion_matrix_test[t.long(), p.long()] += 1\n",
    "\n",
    "print(confusion_matrix_test)"
   ]
  },
  {
   "cell_type": "code",
   "execution_count": 22,
   "metadata": {},
   "outputs": [],
   "source": [
    "# specialist 1: animals\n",
    "animals = [2, 3, 4, 5, 6, 7]\n",
    "transportation = [0, 1, 8, 9]\n",
    "\n",
    "\n",
    "animals_train = []\n",
    "trans_train = []\n",
    "\n",
    "for data in trainset:\n",
    "    image, label = data\n",
    "    if label in animals:\n",
    "        animals_train.append((image, animals.index(label)))\n",
    "    else:\n",
    "        trans_train.append((image, transportation.index(label)))\n",
    "        \n"
   ]
  },
  {
   "cell_type": "code",
   "execution_count": 23,
   "metadata": {},
   "outputs": [],
   "source": [
    "animal_loader = torch.utils.data.DataLoader(animals_train, batch_size=4,\n",
    "                                          shuffle=True, num_workers=2)\n",
    "\n",
    "trans_loader = torch.utils.data.DataLoader(animals_train, batch_size=4,\n",
    "                                          shuffle=True, num_workers=2)"
   ]
  },
  {
   "cell_type": "code",
   "execution_count": 26,
   "metadata": {},
   "outputs": [],
   "source": [
    "class animalNet(nn.Module):\n",
    "    def __init__(self):\n",
    "        super(animalNet, self).__init__()\n",
    "        self.conv1 = nn.Conv2d(3, 6, 5)\n",
    "        self.pool = nn.MaxPool2d(2, 2)\n",
    "        self.conv2 = nn.Conv2d(6, 16, 5)\n",
    "        self.fc1 = nn.Linear(16 * 5 * 5, 120)\n",
    "        self.fc2 = nn.Linear(120, 84)\n",
    "        self.fc3 = nn.Linear(84, 6)\n",
    "\n",
    "    def forward(self, x):\n",
    "        x = self.pool(F.relu(self.conv1(x)))\n",
    "        x = self.pool(F.relu(self.conv2(x)))\n",
    "        x = x.view(-1, 16 * 5 * 5)\n",
    "        x = F.relu(self.fc1(x))\n",
    "        x = F.relu(self.fc2(x))\n",
    "        x = self.fc3(x)\n",
    "        return x\n",
    "\n",
    "    \n",
    "animal_net = animalNet()"
   ]
  },
  {
   "cell_type": "code",
   "execution_count": 27,
   "metadata": {},
   "outputs": [],
   "source": [
    "criterion = nn.CrossEntropyLoss()\n",
    "optimizer = optim.SGD(animal_net.parameters(), lr=0.001, momentum=0.9)"
   ]
  },
  {
   "cell_type": "code",
   "execution_count": null,
   "metadata": {},
   "outputs": [],
   "source": []
  },
  {
   "cell_type": "code",
   "execution_count": null,
   "metadata": {},
   "outputs": [],
   "source": []
  },
  {
   "cell_type": "code",
   "execution_count": 17,
   "metadata": {},
   "outputs": [
    {
     "name": "stdout",
     "output_type": "stream",
     "text": [
      "[1,  2000] loss: 1.786\n",
      "[1,  4000] loss: 1.696\n",
      "[1,  6000] loss: 1.530\n",
      "[2,  2000] loss: 1.387\n",
      "[2,  4000] loss: 1.344\n",
      "[2,  6000] loss: 1.300\n",
      "[3,  2000] loss: 1.221\n",
      "[3,  4000] loss: 1.214\n",
      "[3,  6000] loss: 1.186\n",
      "[4,  2000] loss: 1.119\n",
      "[4,  4000] loss: 1.094\n",
      "[4,  6000] loss: 1.107\n",
      "[5,  2000] loss: 1.031\n",
      "[5,  4000] loss: 1.043\n",
      "[5,  6000] loss: 1.008\n",
      "Finished Training\n"
     ]
    }
   ],
   "source": [
    "for epoch in range(5):  # loop over the dataset multiple times\n",
    "\n",
    "    running_loss = 0.0\n",
    "    for i, data in enumerate(animal_loader, 0):\n",
    "        # get the inputs\n",
    "        inputs, labels = data\n",
    "        \n",
    "#         print(inputs, labels)\n",
    "\n",
    "        # zero the parameter gradients\n",
    "        optimizer.zero_grad()\n",
    "\n",
    "        # forward + backward + optimize\n",
    "        outputs = animal_net(inputs)\n",
    "        loss = criterion(outputs, labels)\n",
    "        loss.backward()\n",
    "        optimizer.step()\n",
    "\n",
    "        # print statistics\n",
    "        running_loss += loss.item()\n",
    "        if i % 2000 == 1999:    # print every 2000 mini-batches\n",
    "            print('[%d, %5d] loss: %.3f' %\n",
    "                  (epoch + 1, i + 1, running_loss / 2000))\n",
    "            running_loss = 0.0\n",
    "\n",
    "print('Finished Training')"
   ]
  },
  {
   "cell_type": "code",
   "execution_count": 18,
   "metadata": {},
   "outputs": [
    {
     "name": "stdout",
     "output_type": "stream",
     "text": [
      "GroundTruth:  tensor(3) tensor(3) tensor(4) tensor(5)\n",
      "Predicted:  tensor(3) tensor(3) tensor(4) tensor(5)\n",
      "Accuracy of the network on the 10000 test images: 64 %\n"
     ]
    },
    {
     "data": {
      "image/png": "[encoded data removed]",
      "text/plain": [
       "<Figure size 432x288 with 1 Axes>"
      ]
     },
     "metadata": {
      "needs_background": "light"
     },
     "output_type": "display_data"
    },
    {
     "name": "stderr",
     "output_type": "stream",
     "text": [
      "Process Process-33:\n",
      "Process Process-34:\n",
      "Traceback (most recent call last):\n",
      "Traceback (most recent call last):\n",
      "  File \"/anaconda3/lib/python3.7/multiprocessing/process.py\", line 297, in _bootstrap\n",
      "    self.run()\n",
      "  File \"/anaconda3/lib/python3.7/multiprocessing/process.py\", line 297, in _bootstrap\n",
      "    self.run()\n",
      "  File \"/anaconda3/lib/python3.7/multiprocessing/process.py\", line 99, in run\n",
      "    self._target(*self._args, **self._kwargs)\n",
      "  File \"/anaconda3/lib/python3.7/multiprocessing/process.py\", line 99, in run\n",
      "    self._target(*self._args, **self._kwargs)\n",
      "  File \"/anaconda3/lib/python3.7/site-packages/torch/utils/data/dataloader.py\", line 96, in _worker_loop\n",
      "    r = index_queue.get(timeout=MANAGER_STATUS_CHECK_INTERVAL)\n",
      "  File \"/anaconda3/lib/python3.7/site-packages/torch/utils/data/dataloader.py\", line 96, in _worker_loop\n",
      "    r = index_queue.get(timeout=MANAGER_STATUS_CHECK_INTERVAL)\n",
      "  File \"/anaconda3/lib/python3.7/multiprocessing/queues.py\", line 104, in get\n",
      "    if not self._poll(timeout):\n",
      "  File \"/anaconda3/lib/python3.7/multiprocessing/queues.py\", line 104, in get\n",
      "    if not self._poll(timeout):\n",
      "  File \"/anaconda3/lib/python3.7/multiprocessing/connection.py\", line 257, in poll\n",
      "    return self._poll(timeout)\n",
      "  File \"/anaconda3/lib/python3.7/multiprocessing/connection.py\", line 257, in poll\n",
      "    return self._poll(timeout)\n",
      "  File \"/anaconda3/lib/python3.7/multiprocessing/connection.py\", line 414, in _poll\n",
      "    r = wait([self], timeout)\n",
      "  File \"/anaconda3/lib/python3.7/multiprocessing/connection.py\", line 414, in _poll\n",
      "    r = wait([self], timeout)\n",
      "  File \"/anaconda3/lib/python3.7/multiprocessing/connection.py\", line 920, in wait\n",
      "    ready = selector.select(timeout)\n",
      "  File \"/anaconda3/lib/python3.7/multiprocessing/connection.py\", line 920, in wait\n",
      "    ready = selector.select(timeout)\n",
      "  File \"/anaconda3/lib/python3.7/selectors.py\", line 415, in select\n",
      "    fd_event_list = self._selector.poll(timeout)\n",
      "  File \"/anaconda3/lib/python3.7/selectors.py\", line 415, in select\n",
      "    fd_event_list = self._selector.poll(timeout)\n",
      "KeyboardInterrupt\n",
      "KeyboardInterrupt\n"
     ]
    }
   ],
   "source": [
    "dataiter = iter(animal_loader)\n",
    "images, labels = dataiter.next()\n",
    "\n",
    "# print images\n",
    "imshow(torchvision.utils.make_grid(images))\n",
    "print('GroundTruth: ', ' '.join('%5s' % labels[j] for j in range(4)))\n",
    "\n",
    "outputs = animal_net(images)\n",
    "\n",
    "_, predicted = torch.max(outputs, 1)\n",
    "\n",
    "print('Predicted: ', ' '.join('%5s' % predicted[j]\n",
    "                              for j in range(4)))\n",
    "\n",
    "correct = 0\n",
    "total = 0\n",
    "with torch.no_grad():\n",
    "    for data in animal_loader:\n",
    "        images, labels = data\n",
    "        outputs = animal_net(images)\n",
    "        _, predicted = torch.max(outputs.data, 1)\n",
    "        total += labels.size(0)\n",
    "        correct += (predicted == labels).sum().item()\n",
    "\n",
    "print('Accuracy of the network on the 10000 test images: %d %%' % (\n",
    "    100 * correct / total))"
   ]
  },
  {
   "cell_type": "code",
   "execution_count": 12,
   "metadata": {},
   "outputs": [
    {
     "name": "stdout",
     "output_type": "stream",
     "text": [
      "0\n",
      "torch.Size([6, 3, 5, 5])\n",
      "1\n",
      "torch.Size([6])\n",
      "2\n",
      "torch.Size([16, 6, 5, 5])\n",
      "3\n",
      "torch.Size([16])\n",
      "4\n",
      "torch.Size([120, 400])\n",
      "5\n",
      "torch.Size([120])\n",
      "6\n",
      "torch.Size([84, 120])\n",
      "7\n",
      "torch.Size([84])\n",
      "8\n",
      "torch.Size([10, 84])\n",
      "9\n",
      "torch.Size([10])\n"
     ]
    }
   ],
   "source": [
    "for i,ele in enumerate(generalist_net.parameters()):\n",
    "    print(i)\n",
    "    print(ele.shape)\n",
    "#     print(ele)"
   ]
  },
  {
   "cell_type": "code",
   "execution_count": 25,
   "metadata": {},
   "outputs": [
    {
     "data": {
      "text/plain": [
       "Net(\n",
       "  (conv1): Conv2d(3, 6, kernel_size=(5, 5), stride=(1, 1))\n",
       "  (pool): MaxPool2d(kernel_size=2, stride=2, padding=0, dilation=1, ceil_mode=False)\n",
       "  (conv2): Conv2d(6, 16, kernel_size=(5, 5), stride=(1, 1))\n",
       "  (fc1): Linear(in_features=400, out_features=120, bias=True)\n",
       "  (fc2): Linear(in_features=120, out_features=84, bias=True)\n",
       "  (fc3): Linear(in_features=84, out_features=10, bias=True)\n",
       ")"
      ]
     },
     "execution_count": 25,
     "metadata": {},
     "output_type": "execute_result"
    }
   ],
   "source": [
    "generalist_net"
   ]
  },
  {
   "cell_type": "code",
   "execution_count": 17,
   "metadata": {},
   "outputs": [],
   "source": [
    "genralist_weights = generalist_net.state_dict()"
   ]
  },
  {
   "cell_type": "code",
   "execution_count": 18,
   "metadata": {},
   "outputs": [],
   "source": [
    "import copy\n",
    "import time\n",
    "def train_model(model, criterion, optimizer,pretrained_model_wts, num_epochs=5):\n",
    "    model.load_state_dict(pretrained_model_wts)\n",
    "    for epoch in range(5):  # loop over the dataset multiple times\n",
    "\n",
    "        running_loss = 0.0\n",
    "        for i, data in enumerate(animal_loader, 0):\n",
    "            # get the inputs\n",
    "            inputs, labels = data\n",
    "\n",
    "    #         print(inputs, labels)\n",
    "\n",
    "            # zero the parameter gradients\n",
    "            optimizer.zero_grad()\n",
    "\n",
    "            # forward + backward + optimize\n",
    "            outputs = model(inputs)\n",
    "            loss = criterion(outputs, labels)\n",
    "            loss.backward()\n",
    "            optimizer.step()\n",
    "\n",
    "            # print statistics\n",
    "            running_loss += loss.item()\n",
    "            if i % 2000 == 1999:    # print every 2000 mini-batches\n",
    "                print('[%d, %5d] loss: %.3f' %\n",
    "                      (epoch + 1, i + 1, running_loss / 2000))\n",
    "                running_loss = 0.0\n",
    "\n",
    "    print('Finished Training')\n",
    "    dataiter = iter(animal_loader)\n",
    "    images, labels = dataiter.next()\n",
    "\n",
    "    # print images\n",
    "    imshow(torchvision.utils.make_grid(images))\n",
    "    print('GroundTruth: ', ' '.join('%5s' % labels[j] for j in range(4)))\n",
    "\n",
    "    outputs = model(images)\n",
    "\n",
    "    _, predicted = torch.max(outputs, 1)\n",
    "\n",
    "    print('Predicted: ', ' '.join('%5s' % predicted[j]\n",
    "                                  for j in range(4)))\n",
    "\n",
    "    correct = 0\n",
    "    total = 0\n",
    "    with torch.no_grad():\n",
    "        for data in animal_loader:\n",
    "            images, labels = data\n",
    "            outputs = model(images)\n",
    "            _, predicted = torch.max(outputs.data, 1)\n",
    "            total += labels.size(0)\n",
    "            correct += (predicted == labels).sum().item()\n",
    "\n",
    "    print('Accuracy of the network on the 10000 test images: %d %%' % (\n",
    "        100 * correct / total))\n",
    "    return model.state_dict()"
   ]
  },
  {
   "cell_type": "code",
   "execution_count": 19,
   "metadata": {},
   "outputs": [],
   "source": [
    "from torchvision import datasets, models, transforms"
   ]
  },
  {
   "cell_type": "code",
   "execution_count": 20,
   "metadata": {},
   "outputs": [],
   "source": [
    "# model_ft = models.resnet18(pretrained=True)\n",
    "# num_ftrs = model_ft.fc.in_features\n",
    "# model_ft.fc = nn.Linear(num_ftrs, 2)\n",
    "\n",
    "# model_ft = model_ft.to(device)\n",
    "\n",
    "criterion = nn.CrossEntropyLoss()\n",
    "\n",
    "# Observe that all parameters are being optimized\n",
    "optimizer_ft = optim.SGD(generalist_net.parameters(), lr=0.001, momentum=0.9)\n",
    "\n"
   ]
  },
  {
   "cell_type": "code",
   "execution_count": 29,
   "metadata": {},
   "outputs": [
    {
     "name": "stdout",
     "output_type": "stream",
     "text": [
      "[1,  2000] loss: 0.693\n",
      "[1,  4000] loss: 0.719\n",
      "[1,  6000] loss: 0.768\n",
      "[2,  2000] loss: 0.638\n",
      "[2,  4000] loss: 0.700\n",
      "[2,  6000] loss: 0.699\n",
      "[3,  2000] loss: 0.611\n",
      "[3,  4000] loss: 0.649\n",
      "[3,  6000] loss: 0.680\n",
      "[4,  2000] loss: 0.574\n",
      "[4,  4000] loss: 0.627\n",
      "[4,  6000] loss: 0.651\n",
      "[5,  2000] loss: 0.544\n",
      "[5,  4000] loss: 0.574\n",
      "[5,  6000] loss: 0.633\n",
      "Finished Training\n",
      "GroundTruth:  tensor(2) tensor(4) tensor(4) tensor(4)\n",
      "Predicted:  tensor(2) tensor(4) tensor(4) tensor(4)\n",
      "Accuracy of the network on the 10000 test images: 79 %\n"
     ]
    },
    {
     "name": "stderr",
     "output_type": "stream",
     "text": [
      "Exception ignored in: <function _DataLoaderIter.__del__ at 0x116b847b8>\n",
      "Traceback (most recent call last):\n",
      "  File \"/anaconda3/lib/python3.7/site-packages/torch/utils/data/dataloader.py\", line 399, in __del__\n",
      "    self._shutdown_workers()\n",
      "  File \"/anaconda3/lib/python3.7/site-packages/torch/utils/data/dataloader.py\", line 378, in _shutdown_workers\n",
      "    self.worker_result_queue.get()\n",
      "  File \"/anaconda3/lib/python3.7/multiprocessing/queues.py\", line 354, in get\n",
      "    return _ForkingPickler.loads(res)\n",
      "  File \"/anaconda3/lib/python3.7/site-packages/torch/multiprocessing/reductions.py\", line 167, in rebuild_storage_filename\n",
      "    storage = cls._new_shared_filename(manager, handle, size)\n",
      "RuntimeError: Interrupted system call at /Users/soumith/miniconda2/conda-bld/pytorch_1532624435833/work/torch/lib/libshm/core.cpp:99\n"
     ]
    },
    {
     "data": {
      "image/png": "[encoded data removed]",
      "text/plain": [
       "<Figure size 432x288 with 1 Axes>"
      ]
     },
     "metadata": {
      "needs_background": "light"
     },
     "output_type": "display_data"
    }
   ],
   "source": [
    "model_ft = train_model(generalist_net, criterion, optimizer_ft,\n",
    "                       genralist_weights,num_epochs=5)"
   ]
  },
  {
   "cell_type": "code",
   "execution_count": null,
   "metadata": {},
   "outputs": [],
   "source": [
    "# specialist 2: transportation\n",
    "\n"
   ]
  },
  {
   "cell_type": "markdown",
   "metadata": {},
   "source": [
    "## Analysis and Comparison"
   ]
  },
  {
   "cell_type": "code",
   "execution_count": null,
   "metadata": {},
   "outputs": [],
   "source": []
  },
  {
   "cell_type": "code",
   "execution_count": null,
   "metadata": {},
   "outputs": [],
   "source": []
  }
 ],
 "metadata": {
  "kernelspec": {
   "display_name": "Python 3",
   "language": "python",
   "name": "python3"
  },
  "language_info": {
   "codemirror_mode": {
    "name": "ipython",
    "version": 3
   },
   "file_extension": ".py",
   "mimetype": "text/x-python",
   "name": "python",
   "nbconvert_exporter": "python",
   "pygments_lexer": "ipython3",
   "version": "3.7.0"
  }
 },
 "nbformat": 4,
 "nbformat_minor": 2
}
